{
 "cells": [
  {
   "cell_type": "code",
   "execution_count": 538,
   "metadata": {},
   "outputs": [],
   "source": [
    "import pandas as pd\n",
    "import numpy as np\n",
    "import re\n",
    "import missingno\n",
    "import matplotlib.pyplot as plt"
   ]
  },
  {
   "attachments": {},
   "cell_type": "markdown",
   "metadata": {},
   "source": [
    "# Load Data\n",
    "There are two files to work with. The first file contains a list of alcohol license violations. I use this as intended. The second is a list of alcohol licenses. I use this to create a new csv file, which contains information about in which city each zip code is located."
   ]
  },
  {
   "cell_type": "code",
   "execution_count": 539,
   "metadata": {},
   "outputs": [],
   "source": [
    "df = pd.read_csv('Alcoholic_Beverage_License_Violations-API.csv')\n"
   ]
  },
  {
   "attachments": {},
   "cell_type": "markdown",
   "metadata": {},
   "source": [
    "First, the head of the violation dataframe."
   ]
  },
  {
   "cell_type": "code",
   "execution_count": 540,
   "metadata": {},
   "outputs": [
    {
     "data": {
      "text/html": [
       "<div>\n",
       "<style scoped>\n",
       "    .dataframe tbody tr th:only-of-type {\n",
       "        vertical-align: middle;\n",
       "    }\n",
       "\n",
       "    .dataframe tbody tr th {\n",
       "        vertical-align: top;\n",
       "    }\n",
       "\n",
       "    .dataframe thead th {\n",
       "        text-align: right;\n",
       "    }\n",
       "</style>\n",
       "<table border=\"1\" class=\"dataframe\">\n",
       "  <thead>\n",
       "    <tr style=\"text-align: right;\">\n",
       "      <th></th>\n",
       "      <th>FacilityName</th>\n",
       "      <th>FacilityAddress</th>\n",
       "      <th>Violation</th>\n",
       "      <th>Disposition</th>\n",
       "      <th>DispositionDate</th>\n",
       "    </tr>\n",
       "  </thead>\n",
       "  <tbody>\n",
       "    <tr>\n",
       "      <th>0</th>\n",
       "      <td>FLOWER CHILD</td>\n",
       "      <td>10072 DARNESTOWN RD. , ROCKVILLE, MD 20860</td>\n",
       "      <td>SALE TO MINOR</td>\n",
       "      <td>SETTLED;$1000+ALERT</td>\n",
       "      <td>03/05/2019</td>\n",
       "    </tr>\n",
       "    <tr>\n",
       "      <th>1</th>\n",
       "      <td>BUFFALO WILD WINGS</td>\n",
       "      <td>33 MARYLAND AVE. , ROCKVILLE, MD 20850</td>\n",
       "      <td>ALCOHOL AWARENESS CERTIFIED PERSON NOT ON PREM...</td>\n",
       "      <td>SETTLED;$100+ALERT</td>\n",
       "      <td>08/21/2019</td>\n",
       "    </tr>\n",
       "    <tr>\n",
       "      <th>2</th>\n",
       "      <td>TACOS, TORTAS &amp; TEQUILA</td>\n",
       "      <td>8407 RAMSEY AVE. , SILVER SPRING, MD 20910</td>\n",
       "      <td>LICENSE NOT PROPERLY DISPLAYED</td>\n",
       "      <td>SETTLED; 100+ ALERT</td>\n",
       "      <td>04/03/2019</td>\n",
       "    </tr>\n",
       "    <tr>\n",
       "      <th>3</th>\n",
       "      <td>THE SPOT</td>\n",
       "      <td>255 NORTH WASHINGTON ST. , ROCKVILLE, MD 20850</td>\n",
       "      <td>EMPLOYEE RECORDS NOT AVAILABLE WHEN REQUESTED</td>\n",
       "      <td>SETTLED;$500+ALERT</td>\n",
       "      <td>08/06/2019</td>\n",
       "    </tr>\n",
       "    <tr>\n",
       "      <th>4</th>\n",
       "      <td>THE SPOT</td>\n",
       "      <td>255 NORTH WASHINGTON ST. , ROCKVILLE, MD 20850</td>\n",
       "      <td>ALCOHOL AWARENESS CERTIFIED PERSON NOT ON PREM...</td>\n",
       "      <td>SETTLED;$100+ALERT</td>\n",
       "      <td>08/06/2019</td>\n",
       "    </tr>\n",
       "  </tbody>\n",
       "</table>\n",
       "</div>"
      ],
      "text/plain": [
       "              FacilityName                                 FacilityAddress  \\\n",
       "0             FLOWER CHILD      10072 DARNESTOWN RD. , ROCKVILLE, MD 20860   \n",
       "1       BUFFALO WILD WINGS          33 MARYLAND AVE. , ROCKVILLE, MD 20850   \n",
       "2  TACOS, TORTAS & TEQUILA      8407 RAMSEY AVE. , SILVER SPRING, MD 20910   \n",
       "3                 THE SPOT  255 NORTH WASHINGTON ST. , ROCKVILLE, MD 20850   \n",
       "4                 THE SPOT  255 NORTH WASHINGTON ST. , ROCKVILLE, MD 20850   \n",
       "\n",
       "                                           Violation          Disposition  \\\n",
       "0                                      SALE TO MINOR  SETTLED;$1000+ALERT   \n",
       "1  ALCOHOL AWARENESS CERTIFIED PERSON NOT ON PREM...   SETTLED;$100+ALERT   \n",
       "2                     LICENSE NOT PROPERLY DISPLAYED  SETTLED; 100+ ALERT   \n",
       "3      EMPLOYEE RECORDS NOT AVAILABLE WHEN REQUESTED   SETTLED;$500+ALERT   \n",
       "4  ALCOHOL AWARENESS CERTIFIED PERSON NOT ON PREM...   SETTLED;$100+ALERT   \n",
       "\n",
       "  DispositionDate  \n",
       "0      03/05/2019  \n",
       "1      08/21/2019  \n",
       "2      04/03/2019  \n",
       "3      08/06/2019  \n",
       "4      08/06/2019  "
      ]
     },
     "execution_count": 540,
     "metadata": {},
     "output_type": "execute_result"
    }
   ],
   "source": [
    "df.head()"
   ]
  },
  {
   "attachments": {},
   "cell_type": "markdown",
   "metadata": {},
   "source": [
    "# Data Cleaning and Feature Engineering"
   ]
  },
  {
   "attachments": {},
   "cell_type": "markdown",
   "metadata": {},
   "source": [
    "## Cleaning Violations\n",
    "Some of the violations contain statutory indices in their descriptions and some do not. This means that the number of categories in the Violation features exceeds the number of actual categorizations. To fix tthis, I remove the statutory indices. I also change the case of the text, for readability.\n",
    "\n",
    "Below are the unique types of violations present in the data."
   ]
  },
  {
   "cell_type": "code",
   "execution_count": 541,
   "metadata": {},
   "outputs": [
    {
     "data": {
      "text/plain": [
       "array(['SALE TO MINOR',\n",
       "       'ALCOHOL AWARENESS CERTIFIED PERSON NOT ON PREMISES',\n",
       "       'LICENSE NOT PROPERLY DISPLAYED',\n",
       "       'EMPLOYEE RECORDS NOT AVAILABLE WHEN REQUESTED',\n",
       "       '5.7 DISPLAY OF LICENSE',\n",
       "       'REFILLING EMPTY/PARTIALLY EMPTY ALCOHOLIC BOTTLES', 'STORAGE',\n",
       "       'SELLING/SERVING ALCOHOL AFTER PERMITTED HOURS',\n",
       "       '6.1 SALES OR SERVICE TO MINORS/CONSUMPTION OR POSSESSION OF MINORS',\n",
       "       '5.4 ALCOHOL AWARENESS CERTIFICATION', 'RECORDS INVOICE VIOLATION',\n",
       "       'KEG REGISTRATION VIOLATION', 'CLASS LICENSE VIOLATION',\n",
       "       'ACTS CONTRARY TO LAW', '6.9 STORAGE',\n",
       "       'APPLICATION - FAILURE TO UPDATE', 'DISORDERLY HOUSE',\n",
       "       '6.4 CONSUMPTION, POSSESSION, OR SALE DURING PROHIBITED HOURS',\n",
       "       '6.0 ACTS CONTRARY TO LAW', '5.10 DISPENSING OF LIQUOR',\n",
       "       'GAMBLING ON PREMISES', 'AGE OF EMPLOYEE VIOLATION',\n",
       "       'NO VIOLATION',\n",
       "       'DISPENSING LIQUOR BY BOTTLE FOR CONSUMPTION ONSITE',\n",
       "       'NO ENTERPRISE LICENSE', 'LICENSE COMPLIANCE CHECK',\n",
       "       'NOISE/DISTURBANCE OF THE NEIGHBORHOOD',\n",
       "       \"LICENSEES' RESPONSIBILITY\", 'PROHIBITED HOURS',\n",
       "       '5.2 CHANGES IN LICENSING INFORMATION', '6.20 DISORDERLY HOUSE',\n",
       "       '6.12 OPEN CONTAINERS', \"5.1 LICENSEE'S RESPONSIBILITY\",\n",
       "       '6.2 SALES OR SERVICE TO INTOXICATED PERSONS/CONSUMPTION OR POSSESSION BY INTOXICATED PERSONS',\n",
       "       '5.0 COMPLIANCE WITH LAWS AND REGULATIONS', '6.16 FALSE STATEMENT',\n",
       "       '6.8 ALCOHOLIC BEVERAGE CONTAINERS- REFILLING/TAMPERING',\n",
       "       '5.5 RECORDS\\n VIOLATION', 'SALE/SERVICE TO INTOXICATED PATRON',\n",
       "       'PATRON LEAVING PREMISE WITH OPEN ALCOHOL CONTAINER',\n",
       "       'WINDOW TINTING', 'FAILURE TO PURCHASE FROM APPROVED SOURCE',\n",
       "       'APPLICATION - FALSE INFORMATION',\n",
       "       'FAILED TO LABEL PRODUCTS FROM DISPENSING APPARATUS',\n",
       "       'INSPECTIONS GENERALLY',\n",
       "       '5.11 BEVERAGES FROM FAUCETS, SPIGOTS, ETC./LABELING'],\n",
       "      dtype=object)"
      ]
     },
     "execution_count": 541,
     "metadata": {},
     "output_type": "execute_result"
    }
   ],
   "source": [
    "df['Violation'].unique()"
   ]
  },
  {
   "attachments": {},
   "cell_type": "markdown",
   "metadata": {},
   "source": [
    "Above, for example, we see both 'ACTS CONTRARY TO LAW' and '6.0 ACTS CONTRARY TO LAW.' These duplicates can be removed using string operations. In fact, I remove the statutory numbering entirely, since it is distracting."
   ]
  },
  {
   "cell_type": "code",
   "execution_count": 542,
   "metadata": {},
   "outputs": [],
   "source": [
    "def remove_dup_violation(violation_string):\n",
    "    split_violation = violation_string.split(' ')\n",
    "    \n",
    "    # Clean up the text\n",
    "    split_violation = [tok.title().strip() for tok in split_violation]\n",
    "    \n",
    "    # Check if statutory numbering is present and remove if so\n",
    "    if split_violation[0].isalpha():\n",
    "        return ' '.join(split_violation)\n",
    "    else:\n",
    "        return ' '.join(split_violation[1:])"
   ]
  },
  {
   "cell_type": "code",
   "execution_count": 543,
   "metadata": {},
   "outputs": [],
   "source": [
    "df['Violation'] = df['Violation'].apply(remove_dup_violation)"
   ]
  },
  {
   "cell_type": "code",
   "execution_count": 544,
   "metadata": {},
   "outputs": [
    {
     "data": {
      "text/plain": [
       "array(['Sale To Minor',\n",
       "       'Alcohol Awareness Certified Person Not On Premises',\n",
       "       'License Not Properly Displayed',\n",
       "       'Employee Records Not Available When Requested',\n",
       "       'Display Of License',\n",
       "       'Refilling Empty/Partially Empty Alcoholic Bottles', 'Storage',\n",
       "       'Alcohol After Permitted Hours',\n",
       "       'Sales Or Service To Minors/Consumption Or Possession Of Minors',\n",
       "       'Alcohol Awareness Certification', 'Records Invoice Violation',\n",
       "       'Keg Registration Violation', 'Class License Violation',\n",
       "       'Acts Contrary To Law', 'Application - Failure To Update',\n",
       "       'Disorderly House',\n",
       "       'Consumption, Possession, Or Sale During Prohibited Hours',\n",
       "       'Dispensing Of Liquor', 'Gambling On Premises',\n",
       "       'Age Of Employee Violation', 'No Violation',\n",
       "       'Dispensing Liquor By Bottle For Consumption Onsite',\n",
       "       'No Enterprise License', 'License Compliance Check',\n",
       "       'Of The Neighborhood', 'Responsibility', 'Prohibited Hours',\n",
       "       'Changes In Licensing Information', 'Open Containers',\n",
       "       \"Licensee'S Responsibility\",\n",
       "       'Sales Or Service To Intoxicated Persons/Consumption Or Possession By Intoxicated Persons',\n",
       "       'Compliance With Laws And Regulations', 'False Statement',\n",
       "       'Alcoholic Beverage Containers- Refilling/Tampering',\n",
       "       'Records Violation', 'To Intoxicated Patron',\n",
       "       'Patron Leaving Premise With Open Alcohol Container',\n",
       "       'Window Tinting', 'Failure To Purchase From Approved Source',\n",
       "       'Application - False Information',\n",
       "       'Failed To Label Products From Dispensing Apparatus',\n",
       "       'Inspections Generally',\n",
       "       'Beverages From Faucets, Spigots, Etc./Labeling'], dtype=object)"
      ]
     },
     "execution_count": 544,
     "metadata": {},
     "output_type": "execute_result"
    }
   ],
   "source": [
    "df['Violation'].unique()"
   ]
  },
  {
   "cell_type": "markdown",
   "metadata": {},
   "source": [
    "## Processing Dispositions"
   ]
  },
  {
   "attachments": {},
   "cell_type": "markdown",
   "metadata": {},
   "source": [
    "The goal here is to find classes of dispositions as well as the amounts of any fines assessed. The issue is that there seems to be no standarad format for describing a disposition.\n",
    "\n",
    "First, I remove missing values. Second, I fix some typos in the feature. Third, I remove commas. Because some disposition descriptions have commas in them, and some do not. This makes it harder to process text."
   ]
  },
  {
   "attachments": {},
   "cell_type": "markdown",
   "metadata": {},
   "source": [
    "Below, we can see values with no disposition information."
   ]
  },
  {
   "cell_type": "code",
   "execution_count": 545,
   "metadata": {},
   "outputs": [
    {
     "data": {
      "text/html": [
       "<div>\n",
       "<style scoped>\n",
       "    .dataframe tbody tr th:only-of-type {\n",
       "        vertical-align: middle;\n",
       "    }\n",
       "\n",
       "    .dataframe tbody tr th {\n",
       "        vertical-align: top;\n",
       "    }\n",
       "\n",
       "    .dataframe thead th {\n",
       "        text-align: right;\n",
       "    }\n",
       "</style>\n",
       "<table border=\"1\" class=\"dataframe\">\n",
       "  <thead>\n",
       "    <tr style=\"text-align: right;\">\n",
       "      <th></th>\n",
       "      <th>FacilityName</th>\n",
       "      <th>FacilityAddress</th>\n",
       "      <th>Violation</th>\n",
       "      <th>Disposition</th>\n",
       "      <th>DispositionDate</th>\n",
       "    </tr>\n",
       "  </thead>\n",
       "  <tbody>\n",
       "    <tr>\n",
       "      <th>94</th>\n",
       "      <td>GAITHERSBURG SUPERMARKET</td>\n",
       "      <td>220 EAST DIAMOND AVE , GAITHERSBURG , MARYLAND...</td>\n",
       "      <td>Alcohol Awareness Certification</td>\n",
       "      <td>NaN</td>\n",
       "      <td>NaN</td>\n",
       "    </tr>\n",
       "    <tr>\n",
       "      <th>141</th>\n",
       "      <td>BALAGGER RESTUARANT</td>\n",
       "      <td>8081 GEORGIA AVE , SILVER SPRING , MARYLAND - ...</td>\n",
       "      <td>No Violation</td>\n",
       "      <td>NaN</td>\n",
       "      <td>NaN</td>\n",
       "    </tr>\n",
       "    <tr>\n",
       "      <th>181</th>\n",
       "      <td>DESSIE ETHIOPIAN RESTAURANT &amp; MARKET</td>\n",
       "      <td>2655 UNIVERSITY BLVD , WHEATON , MARYLAND - 20902</td>\n",
       "      <td>Changes In Licensing Information</td>\n",
       "      <td>NaN</td>\n",
       "      <td>NaN</td>\n",
       "    </tr>\n",
       "    <tr>\n",
       "      <th>182</th>\n",
       "      <td>DESSIE ETHIOPIAN RESTAURANT &amp; MARKET</td>\n",
       "      <td>2655 UNIVERSITY BLVD , WHEATON , MARYLAND - 20902</td>\n",
       "      <td>Disorderly House</td>\n",
       "      <td>NaN</td>\n",
       "      <td>NaN</td>\n",
       "    </tr>\n",
       "    <tr>\n",
       "      <th>183</th>\n",
       "      <td>DESSIE ETHIOPIAN RESTAURANT &amp; MARKET</td>\n",
       "      <td>2655 UNIVERSITY BLVD , WHEATON , MARYLAND - 20902</td>\n",
       "      <td>Open Containers</td>\n",
       "      <td>NaN</td>\n",
       "      <td>NaN</td>\n",
       "    </tr>\n",
       "    <tr>\n",
       "      <th>184</th>\n",
       "      <td>DESSIE ETHIOPIAN RESTAURANT &amp; MARKET</td>\n",
       "      <td>2655 UNIVERSITY BLVD , WHEATON , MARYLAND - 20902</td>\n",
       "      <td>Licensee'S Responsibility</td>\n",
       "      <td>NaN</td>\n",
       "      <td>NaN</td>\n",
       "    </tr>\n",
       "    <tr>\n",
       "      <th>185</th>\n",
       "      <td>DESSIE ETHIOPIAN RESTAURANT &amp; MARKET</td>\n",
       "      <td>2655 UNIVERSITY BLVD , WHEATON , MARYLAND - 20902</td>\n",
       "      <td>Sales Or Service To Intoxicated Persons/Consum...</td>\n",
       "      <td>NaN</td>\n",
       "      <td>NaN</td>\n",
       "    </tr>\n",
       "    <tr>\n",
       "      <th>186</th>\n",
       "      <td>DESSIE ETHIOPIAN RESTAURANT &amp; MARKET</td>\n",
       "      <td>2655 UNIVERSITY BLVD , WHEATON , MARYLAND - 20902</td>\n",
       "      <td>Consumption, Possession, Or Sale During Prohib...</td>\n",
       "      <td>NaN</td>\n",
       "      <td>NaN</td>\n",
       "    </tr>\n",
       "    <tr>\n",
       "      <th>187</th>\n",
       "      <td>DESSIE ETHIOPIAN RESTAURANT &amp; MARKET</td>\n",
       "      <td>2655 UNIVERSITY BLVD , WHEATON , MARYLAND - 20902</td>\n",
       "      <td>Compliance With Laws And Regulations</td>\n",
       "      <td>NaN</td>\n",
       "      <td>NaN</td>\n",
       "    </tr>\n",
       "    <tr>\n",
       "      <th>188</th>\n",
       "      <td>DESSIE ETHIOPIAN RESTAURANT &amp; MARKET</td>\n",
       "      <td>2655 UNIVERSITY BLVD , WHEATON , MARYLAND - 20902</td>\n",
       "      <td>False Statement</td>\n",
       "      <td>NaN</td>\n",
       "      <td>NaN</td>\n",
       "    </tr>\n",
       "    <tr>\n",
       "      <th>194</th>\n",
       "      <td>LA VILLA RESTAURANT BAR &amp; GRILL</td>\n",
       "      <td>18701 N. FREDERICK AVE. , GAITHERSBURG , MARYL...</td>\n",
       "      <td>Disorderly House</td>\n",
       "      <td>NaN</td>\n",
       "      <td>09/24/2021</td>\n",
       "    </tr>\n",
       "    <tr>\n",
       "      <th>197</th>\n",
       "      <td>EN BISTRO AND SUSHI</td>\n",
       "      <td>9945 FALLS ROAD , POTOMAC , MARYLAND - 20854</td>\n",
       "      <td>Display Of License</td>\n",
       "      <td>NaN</td>\n",
       "      <td>08/30/2021</td>\n",
       "    </tr>\n",
       "    <tr>\n",
       "      <th>199</th>\n",
       "      <td>DESSIE ETHIOPIAN RESTAURANT &amp; MARKET</td>\n",
       "      <td>2655 UNIVERSITY BLVD , WHEATON , MARYLAND - 20902</td>\n",
       "      <td>Alcohol Awareness Certification</td>\n",
       "      <td>NaN</td>\n",
       "      <td>NaN</td>\n",
       "    </tr>\n",
       "    <tr>\n",
       "      <th>200</th>\n",
       "      <td>DESSIE ETHIOPIAN RESTAURANT &amp; MARKET</td>\n",
       "      <td>2655 UNIVERSITY BLVD , WHEATON , MARYLAND - 20902</td>\n",
       "      <td>Alcohol Awareness Certification</td>\n",
       "      <td>NaN</td>\n",
       "      <td>NaN</td>\n",
       "    </tr>\n",
       "    <tr>\n",
       "      <th>201</th>\n",
       "      <td>DESSIE ETHIOPIAN RESTAURANT &amp; MARKET</td>\n",
       "      <td>2655 UNIVERSITY BLVD , WHEATON , MARYLAND - 20902</td>\n",
       "      <td>Alcohol Awareness Certification</td>\n",
       "      <td>NaN</td>\n",
       "      <td>NaN</td>\n",
       "    </tr>\n",
       "    <tr>\n",
       "      <th>202</th>\n",
       "      <td>DESSIE ETHIOPIAN RESTAURANT &amp; MARKET</td>\n",
       "      <td>2655 UNIVERSITY BLVD , WHEATON , MARYLAND - 20902</td>\n",
       "      <td>Consumption, Possession, Or Sale During Prohib...</td>\n",
       "      <td>NaN</td>\n",
       "      <td>NaN</td>\n",
       "    </tr>\n",
       "    <tr>\n",
       "      <th>203</th>\n",
       "      <td>DESSIE ETHIOPIAN RESTAURANT &amp; MARKET</td>\n",
       "      <td>2655 UNIVERSITY BLVD , WHEATON , MARYLAND - 20902</td>\n",
       "      <td>Storage</td>\n",
       "      <td>NaN</td>\n",
       "      <td>NaN</td>\n",
       "    </tr>\n",
       "    <tr>\n",
       "      <th>217</th>\n",
       "      <td>CHAIA</td>\n",
       "      <td>7237 WOODMONT AVE. , BETHEDA , MARYLAND - 20814</td>\n",
       "      <td>Sales Or Service To Minors/Consumption Or Poss...</td>\n",
       "      <td>NaN</td>\n",
       "      <td>NaN</td>\n",
       "    </tr>\n",
       "    <tr>\n",
       "      <th>218</th>\n",
       "      <td>DESSIE ETHIOPIAN RESTAURANT &amp; MARKET</td>\n",
       "      <td>2655 UNIVERSITY BLVD , WHEATON , MARYLAND - 20902</td>\n",
       "      <td>Alcoholic Beverage Containers- Refilling/Tampe...</td>\n",
       "      <td>NaN</td>\n",
       "      <td>NaN</td>\n",
       "    </tr>\n",
       "    <tr>\n",
       "      <th>219</th>\n",
       "      <td>DESSIE ETHIOPIAN RESTAURANT &amp; MARKET</td>\n",
       "      <td>2655 UNIVERSITY BLVD , WHEATON , MARYLAND - 20902</td>\n",
       "      <td>Records Violation</td>\n",
       "      <td>NaN</td>\n",
       "      <td>NaN</td>\n",
       "    </tr>\n",
       "  </tbody>\n",
       "</table>\n",
       "</div>"
      ],
      "text/plain": [
       "                             FacilityName  \\\n",
       "94               GAITHERSBURG SUPERMARKET   \n",
       "141                   BALAGGER RESTUARANT   \n",
       "181  DESSIE ETHIOPIAN RESTAURANT & MARKET   \n",
       "182  DESSIE ETHIOPIAN RESTAURANT & MARKET   \n",
       "183  DESSIE ETHIOPIAN RESTAURANT & MARKET   \n",
       "184  DESSIE ETHIOPIAN RESTAURANT & MARKET   \n",
       "185  DESSIE ETHIOPIAN RESTAURANT & MARKET   \n",
       "186  DESSIE ETHIOPIAN RESTAURANT & MARKET   \n",
       "187  DESSIE ETHIOPIAN RESTAURANT & MARKET   \n",
       "188  DESSIE ETHIOPIAN RESTAURANT & MARKET   \n",
       "194       LA VILLA RESTAURANT BAR & GRILL   \n",
       "197                   EN BISTRO AND SUSHI   \n",
       "199  DESSIE ETHIOPIAN RESTAURANT & MARKET   \n",
       "200  DESSIE ETHIOPIAN RESTAURANT & MARKET   \n",
       "201  DESSIE ETHIOPIAN RESTAURANT & MARKET   \n",
       "202  DESSIE ETHIOPIAN RESTAURANT & MARKET   \n",
       "203  DESSIE ETHIOPIAN RESTAURANT & MARKET   \n",
       "217                                 CHAIA   \n",
       "218  DESSIE ETHIOPIAN RESTAURANT & MARKET   \n",
       "219  DESSIE ETHIOPIAN RESTAURANT & MARKET   \n",
       "\n",
       "                                       FacilityAddress  \\\n",
       "94   220 EAST DIAMOND AVE , GAITHERSBURG , MARYLAND...   \n",
       "141  8081 GEORGIA AVE , SILVER SPRING , MARYLAND - ...   \n",
       "181  2655 UNIVERSITY BLVD , WHEATON , MARYLAND - 20902   \n",
       "182  2655 UNIVERSITY BLVD , WHEATON , MARYLAND - 20902   \n",
       "183  2655 UNIVERSITY BLVD , WHEATON , MARYLAND - 20902   \n",
       "184  2655 UNIVERSITY BLVD , WHEATON , MARYLAND - 20902   \n",
       "185  2655 UNIVERSITY BLVD , WHEATON , MARYLAND - 20902   \n",
       "186  2655 UNIVERSITY BLVD , WHEATON , MARYLAND - 20902   \n",
       "187  2655 UNIVERSITY BLVD , WHEATON , MARYLAND - 20902   \n",
       "188  2655 UNIVERSITY BLVD , WHEATON , MARYLAND - 20902   \n",
       "194  18701 N. FREDERICK AVE. , GAITHERSBURG , MARYL...   \n",
       "197       9945 FALLS ROAD , POTOMAC , MARYLAND - 20854   \n",
       "199  2655 UNIVERSITY BLVD , WHEATON , MARYLAND - 20902   \n",
       "200  2655 UNIVERSITY BLVD , WHEATON , MARYLAND - 20902   \n",
       "201  2655 UNIVERSITY BLVD , WHEATON , MARYLAND - 20902   \n",
       "202  2655 UNIVERSITY BLVD , WHEATON , MARYLAND - 20902   \n",
       "203  2655 UNIVERSITY BLVD , WHEATON , MARYLAND - 20902   \n",
       "217    7237 WOODMONT AVE. , BETHEDA , MARYLAND - 20814   \n",
       "218  2655 UNIVERSITY BLVD , WHEATON , MARYLAND - 20902   \n",
       "219  2655 UNIVERSITY BLVD , WHEATON , MARYLAND - 20902   \n",
       "\n",
       "                                             Violation Disposition  \\\n",
       "94                     Alcohol Awareness Certification         NaN   \n",
       "141                                       No Violation         NaN   \n",
       "181                   Changes In Licensing Information         NaN   \n",
       "182                                   Disorderly House         NaN   \n",
       "183                                    Open Containers         NaN   \n",
       "184                          Licensee'S Responsibility         NaN   \n",
       "185  Sales Or Service To Intoxicated Persons/Consum...         NaN   \n",
       "186  Consumption, Possession, Or Sale During Prohib...         NaN   \n",
       "187               Compliance With Laws And Regulations         NaN   \n",
       "188                                    False Statement         NaN   \n",
       "194                                   Disorderly House         NaN   \n",
       "197                                 Display Of License         NaN   \n",
       "199                    Alcohol Awareness Certification         NaN   \n",
       "200                    Alcohol Awareness Certification         NaN   \n",
       "201                    Alcohol Awareness Certification         NaN   \n",
       "202  Consumption, Possession, Or Sale During Prohib...         NaN   \n",
       "203                                            Storage         NaN   \n",
       "217  Sales Or Service To Minors/Consumption Or Poss...         NaN   \n",
       "218  Alcoholic Beverage Containers- Refilling/Tampe...         NaN   \n",
       "219                                  Records Violation         NaN   \n",
       "\n",
       "    DispositionDate  \n",
       "94              NaN  \n",
       "141             NaN  \n",
       "181             NaN  \n",
       "182             NaN  \n",
       "183             NaN  \n",
       "184             NaN  \n",
       "185             NaN  \n",
       "186             NaN  \n",
       "187             NaN  \n",
       "188             NaN  \n",
       "194      09/24/2021  \n",
       "197      08/30/2021  \n",
       "199             NaN  \n",
       "200             NaN  \n",
       "201             NaN  \n",
       "202             NaN  \n",
       "203             NaN  \n",
       "217             NaN  \n",
       "218             NaN  \n",
       "219             NaN  "
      ]
     },
     "execution_count": 545,
     "metadata": {},
     "output_type": "execute_result"
    }
   ],
   "source": [
    "df[df['Disposition'].isna()]"
   ]
  },
  {
   "attachments": {},
   "cell_type": "markdown",
   "metadata": {},
   "source": [
    "We can note a couple of things here. First, a single restaurant, Dessie Ethiopian, is overrepresented. Second, where there is no disposition information, there is also no disposition date. Since there is no clear good way to impute these missing values, and the disposition feature is crucial to further analysis, I drop these samples."
   ]
  },
  {
   "cell_type": "code",
   "execution_count": 546,
   "metadata": {},
   "outputs": [],
   "source": [
    "df = df[df['Disposition'].notna()]"
   ]
  },
  {
   "attachments": {},
   "cell_type": "markdown",
   "metadata": {},
   "source": [
    "Next, I remove commas."
   ]
  },
  {
   "cell_type": "code",
   "execution_count": 547,
   "metadata": {},
   "outputs": [],
   "source": [
    "def settled_typos(disposition):\n",
    "    if isinstance(disposition, str):\n",
    "        disposition = disposition.replace('SETTELD', 'SETTLED')\\\n",
    "            .replace('SETTED', 'SETTLED')\\\n",
    "                .replace('SETTELD', 'SETTLED')\\\n",
    "                    .replace('SETTLLED', 'SETTLED')\\\n",
    "                        .replace('SETTLLED', 'SETTLED')\\\n",
    "                            .replace('SEETLED', 'SETTLED')\n",
    "    return disposition\n",
    "\n",
    "\n",
    "\n",
    "df['Disposition'] = df['Disposition'].map(settled_typos).str.replace(',', '')"
   ]
  },
  {
   "attachments": {},
   "cell_type": "markdown",
   "metadata": {},
   "source": [
    "I categorize unique values to see if there are any reoccuring patterns. By far the most common terms in the dispositions are some variant of settled, suspension, or hearing."
   ]
  },
  {
   "cell_type": "code",
   "execution_count": 548,
   "metadata": {},
   "outputs": [],
   "source": [
    "disp_vals = df.Disposition.unique()\n",
    "disp_dict = {}\n",
    "\n",
    "for cat in disp_vals:\n",
    "    if isinstance(cat, str) and 'SETTLED' in cat:\n",
    "        if 'SETTLED' in disp_dict: # some typos in report\n",
    "            disp_dict['SETTLED'].append(cat)\n",
    "        else:\n",
    "            disp_dict['SETTLED'] = [cat]\n",
    "    elif isinstance(cat, str) and 'SUSPEN' in cat:\n",
    "        if 'SUSPENSION' in disp_dict: # some typos in report\n",
    "            disp_dict['SUSPENSION'].append(cat)\n",
    "        else:\n",
    "            disp_dict['SUSPENSION'] = [cat]\n",
    "    elif isinstance(cat, str) and 'HEAR' in cat:\n",
    "        if 'HEARING' in disp_dict: # some typos in report\n",
    "            disp_dict['HEARING'].append(cat)\n",
    "        else:\n",
    "            disp_dict['HEARING'] = [cat]\n",
    "    else:\n",
    "        if 'remainder' in disp_dict:\n",
    "            disp_dict['remainder'].append(cat)\n",
    "        else:\n",
    "            disp_dict['remainder'] = [cat]\n",
    "            "
   ]
  },
  {
   "attachments": {},
   "cell_type": "markdown",
   "metadata": {},
   "source": [
    "Below are ten example dispositions that I put in each category. I show only ten to give a general idea of the sort of dispositions that show up in each grouping. Remember, the goal with this dictionary is just to group strings together to help formatting patterns pop out."
   ]
  },
  {
   "cell_type": "code",
   "execution_count": 549,
   "metadata": {},
   "outputs": [
    {
     "data": {
      "text/plain": [
       "['SETTLED;$1000+ALERT',\n",
       " 'SETTLED;$100+ALERT',\n",
       " 'SETTLED; 100+ ALERT',\n",
       " 'SETTLED;$500+ALERT',\n",
       " 'SETTLED $100 +ALERT',\n",
       " 'SETTLED; $500+ALERT',\n",
       " 'SETTLED;$800+ALERT',\n",
       " 'SETTLED;$2900+ALERT',\n",
       " 'SETTLED;$400+ALERT',\n",
       " 'SETTLED; $500 + ALERT']"
      ]
     },
     "execution_count": 549,
     "metadata": {},
     "output_type": "execute_result"
    }
   ],
   "source": [
    "disp_dict['SETTLED'][:10]"
   ]
  },
  {
   "cell_type": "code",
   "execution_count": 550,
   "metadata": {},
   "outputs": [
    {
     "data": {
      "text/plain": [
       "['TWO WEEK SUSPENSION FROM MAY 13-26 2019',\n",
       " 'TWO WEEK SUSPENSION; SEPTEMBER 16 2019- SEPTEMBER 30 2019 + ALERT',\n",
       " 'SIX WEEK SUSPENSION FROM SEPTEMBER 16-OCTOBER 272019',\n",
       " '2 WEEK SUSPENSION + ALERT (OCTOBER 9-OCTOBER 22 2019)',\n",
       " '2 WEEK SUSPENSION STARTING FROM JANUARY 6-JANUARY 192020',\n",
       " '10 DAY SUSPENSION; NOVEMBER 20-NOVEMBER 29 2019',\n",
       " '2 WEEK SUSPENSION FROM JANUARY 6-JANUARY 19 2020',\n",
       " '2 DAY SUSPENSION FROM DECEMBER 23-24 2019',\n",
       " '2 WEEK SUSPENSION STARTING FROM JANUARY 20- FEBRUARY 92020',\n",
       " 'HEARING; 10 DAY SUSPENSION']"
      ]
     },
     "execution_count": 550,
     "metadata": {},
     "output_type": "execute_result"
    }
   ],
   "source": [
    "disp_dict['SUSPENSION'][:10]"
   ]
  },
  {
   "cell_type": "code",
   "execution_count": 551,
   "metadata": {},
   "outputs": [
    {
     "data": {
      "text/plain": [
       "['HEARING; LICENSE REVOKED',\n",
       " 'HEARING; $1000 FINE + ALERT + STATE ALCOHOL CERTIFICATION TRAINING',\n",
       " 'HEARING; NOT GUILTY',\n",
       " 'HEARING $9000 FINE (6 SALES TO MINORS)',\n",
       " 'HEARING; $500 FINE',\n",
       " 'HEARING; $1000 FINE + ALERT',\n",
       " 'HEARING; $100 FINE',\n",
       " 'HEARING; $4000 FINE',\n",
       " 'HEARING; $8000 FINE',\n",
       " 'HEARING; $1000 FINE']"
      ]
     },
     "execution_count": 551,
     "metadata": {},
     "output_type": "execute_result"
    }
   ],
   "source": [
    "disp_dict['HEARING'][:10]"
   ]
  },
  {
   "attachments": {},
   "cell_type": "markdown",
   "metadata": {},
   "source": [
    "The remainder key is associated with a list of dispositions that did not fit into the other categorizations."
   ]
  },
  {
   "cell_type": "code",
   "execution_count": 552,
   "metadata": {},
   "outputs": [
    {
     "data": {
      "text/plain": [
       "['WARNING+ALERT',\n",
       " '500+ALERT',\n",
       " '$100+ALERT',\n",
       " '$2500+ALERT',\n",
       " '$500+ALERT; REVOCATION',\n",
       " 'REVOKED',\n",
       " '$600.00 REVOCATION.',\n",
       " '$400 +ALERT',\n",
       " 'WARNING',\n",
       " '$1000+ALERT']"
      ]
     },
     "execution_count": 552,
     "metadata": {},
     "output_type": "execute_result"
    }
   ],
   "source": [
    "disp_dict['remainder'][:10]"
   ]
  },
  {
   "cell_type": "markdown",
   "metadata": {},
   "source": [
    "### Extracting Fine Amounts"
   ]
  },
  {
   "attachments": {},
   "cell_type": "markdown",
   "metadata": {},
   "source": [
    "One thing I notice is that  the dollar amount of fine always comes before other numbers. Thus we can extract fines with a simple regular expression and some code We see how the regex works below."
   ]
  },
  {
   "cell_type": "code",
   "execution_count": 553,
   "metadata": {},
   "outputs": [
    {
     "data": {
      "text/plain": [
       "10000.0"
      ]
     },
     "execution_count": 553,
     "metadata": {},
     "output_type": "execute_result"
    }
   ],
   "source": [
    "fine_regex = r'\\d+'\n",
    "ex = 'HEARING; $10000 + 2 WEEK SUSPENSION + ALERT'\n",
    "\n",
    "# Find digit substrings and return only the first\n",
    "float(re.findall(fine_regex, ex)[0])"
   ]
  },
  {
   "cell_type": "markdown",
   "metadata": {},
   "source": [
    "If there are no matches, re.findall() returns an empty list."
   ]
  },
  {
   "cell_type": "code",
   "execution_count": 554,
   "metadata": {},
   "outputs": [
    {
     "data": {
      "text/plain": [
       "[]"
      ]
     },
     "execution_count": 554,
     "metadata": {},
     "output_type": "execute_result"
    }
   ],
   "source": [
    "ex = 'HEARING; TWO WEEK SUSPENSION'\n",
    "re.findall(fine_regex, ex)"
   ]
  },
  {
   "attachments": {},
   "cell_type": "markdown",
   "metadata": {},
   "source": [
    "Note that I do not look for dollar signs - this is because not all fines are recorded with leading dollar signs. However, all fines are at least three digits, while other numbers (i.e. lengths of suspensions) never have more than two digits. So if our regex find a substring of digits, we want to ignore that substring unless it has at least 3 digits.\n",
    "\n",
    "Putting this all together, we can extract the fines from the dispositions."
   ]
  },
  {
   "cell_type": "code",
   "execution_count": 555,
   "metadata": {},
   "outputs": [],
   "source": [
    "def fine_extractor(disposition):\n",
    "    fine_regex = r'\\d+'\n",
    "    if isinstance(disposition, str): # i.e. prevent nan values from raising an error\n",
    "        find_results = re.findall(fine_regex, disposition)\n",
    "        if find_results and len(find_results[0]) >= 3:\n",
    "            return float(find_results[0])\n",
    "        else:\n",
    "            return 0\n",
    "    else:\n",
    "        return 0\n",
    "    \n",
    "df['fines'] = df['Disposition'].map(fine_extractor)"
   ]
  },
  {
   "attachments": {},
   "cell_type": "markdown",
   "metadata": {},
   "source": [
    "## Creating Disposition Category Features\n",
    "I create a feature disposition_type taking on values hearing, settled, suspension, and hearing + suspension. I create another feature, license_revoked, taking on either 1 (True) or 0 (False). I also create a third feature 'Alert' which takes on 1 if there was an alert listed and 0 otherwise."
   ]
  },
  {
   "cell_type": "code",
   "execution_count": 556,
   "metadata": {},
   "outputs": [
    {
     "data": {
      "text/html": [
       "<div>\n",
       "<style scoped>\n",
       "    .dataframe tbody tr th:only-of-type {\n",
       "        vertical-align: middle;\n",
       "    }\n",
       "\n",
       "    .dataframe tbody tr th {\n",
       "        vertical-align: top;\n",
       "    }\n",
       "\n",
       "    .dataframe thead th {\n",
       "        text-align: right;\n",
       "    }\n",
       "</style>\n",
       "<table border=\"1\" class=\"dataframe\">\n",
       "  <thead>\n",
       "    <tr style=\"text-align: right;\">\n",
       "      <th></th>\n",
       "      <th>Disposition</th>\n",
       "      <th>fines</th>\n",
       "      <th>non_alert_disposition_type</th>\n",
       "      <th>license_revoked</th>\n",
       "      <th>alert</th>\n",
       "    </tr>\n",
       "  </thead>\n",
       "  <tbody>\n",
       "    <tr>\n",
       "      <th>0</th>\n",
       "      <td>SETTLED;$1000+ALERT</td>\n",
       "      <td>1000.0</td>\n",
       "      <td>setttled</td>\n",
       "      <td>0</td>\n",
       "      <td>1</td>\n",
       "    </tr>\n",
       "    <tr>\n",
       "      <th>1</th>\n",
       "      <td>SETTLED;$100+ALERT</td>\n",
       "      <td>100.0</td>\n",
       "      <td>setttled</td>\n",
       "      <td>0</td>\n",
       "      <td>1</td>\n",
       "    </tr>\n",
       "    <tr>\n",
       "      <th>2</th>\n",
       "      <td>SETTLED; 100+ ALERT</td>\n",
       "      <td>100.0</td>\n",
       "      <td>setttled</td>\n",
       "      <td>0</td>\n",
       "      <td>1</td>\n",
       "    </tr>\n",
       "    <tr>\n",
       "      <th>3</th>\n",
       "      <td>SETTLED;$500+ALERT</td>\n",
       "      <td>500.0</td>\n",
       "      <td>setttled</td>\n",
       "      <td>0</td>\n",
       "      <td>1</td>\n",
       "    </tr>\n",
       "    <tr>\n",
       "      <th>4</th>\n",
       "      <td>SETTLED;$100+ALERT</td>\n",
       "      <td>100.0</td>\n",
       "      <td>setttled</td>\n",
       "      <td>0</td>\n",
       "      <td>1</td>\n",
       "    </tr>\n",
       "    <tr>\n",
       "      <th>...</th>\n",
       "      <td>...</td>\n",
       "      <td>...</td>\n",
       "      <td>...</td>\n",
       "      <td>...</td>\n",
       "      <td>...</td>\n",
       "    </tr>\n",
       "    <tr>\n",
       "      <th>888</th>\n",
       "      <td>$500 +ALERT</td>\n",
       "      <td>500.0</td>\n",
       "      <td>none</td>\n",
       "      <td>0</td>\n",
       "      <td>1</td>\n",
       "    </tr>\n",
       "    <tr>\n",
       "      <th>889</th>\n",
       "      <td>$200 +ALERT</td>\n",
       "      <td>200.0</td>\n",
       "      <td>none</td>\n",
       "      <td>0</td>\n",
       "      <td>1</td>\n",
       "    </tr>\n",
       "    <tr>\n",
       "      <th>890</th>\n",
       "      <td>$400 +ALERT</td>\n",
       "      <td>400.0</td>\n",
       "      <td>none</td>\n",
       "      <td>0</td>\n",
       "      <td>1</td>\n",
       "    </tr>\n",
       "    <tr>\n",
       "      <th>891</th>\n",
       "      <td>$200 +ALERT</td>\n",
       "      <td>200.0</td>\n",
       "      <td>none</td>\n",
       "      <td>0</td>\n",
       "      <td>1</td>\n",
       "    </tr>\n",
       "    <tr>\n",
       "      <th>892</th>\n",
       "      <td>$1800 +ALERT</td>\n",
       "      <td>1800.0</td>\n",
       "      <td>none</td>\n",
       "      <td>0</td>\n",
       "      <td>1</td>\n",
       "    </tr>\n",
       "  </tbody>\n",
       "</table>\n",
       "<p>873 rows × 5 columns</p>\n",
       "</div>"
      ],
      "text/plain": [
       "             Disposition   fines non_alert_disposition_type  license_revoked  \\\n",
       "0    SETTLED;$1000+ALERT  1000.0                   setttled                0   \n",
       "1     SETTLED;$100+ALERT   100.0                   setttled                0   \n",
       "2    SETTLED; 100+ ALERT   100.0                   setttled                0   \n",
       "3     SETTLED;$500+ALERT   500.0                   setttled                0   \n",
       "4     SETTLED;$100+ALERT   100.0                   setttled                0   \n",
       "..                   ...     ...                        ...              ...   \n",
       "888          $500 +ALERT   500.0                       none                0   \n",
       "889          $200 +ALERT   200.0                       none                0   \n",
       "890          $400 +ALERT   400.0                       none                0   \n",
       "891          $200 +ALERT   200.0                       none                0   \n",
       "892         $1800 +ALERT  1800.0                       none                0   \n",
       "\n",
       "     alert  \n",
       "0        1  \n",
       "1        1  \n",
       "2        1  \n",
       "3        1  \n",
       "4        1  \n",
       "..     ...  \n",
       "888      1  \n",
       "889      1  \n",
       "890      1  \n",
       "891      1  \n",
       "892      1  \n",
       "\n",
       "[873 rows x 5 columns]"
      ]
     },
     "execution_count": 556,
     "metadata": {},
     "output_type": "execute_result"
    }
   ],
   "source": [
    "def disposition_category_mapper(disposition):\n",
    "    if not isinstance(disposition, str):\n",
    "        return disposition\n",
    "    else:\n",
    "        disposition = disposition.lower()\n",
    "        if 'hearing' in disposition and 'suspension' in disposition:\n",
    "            return 'hearing+suspension'\n",
    "        elif 'hearing' in disposition:\n",
    "            return 'hearing'\n",
    "        elif 'suspension' in disposition:\n",
    "            return 'suspension'\n",
    "        elif 'settled' in disposition:\n",
    "            return 'setttled'\n",
    "        else:\n",
    "            return 'none'\n",
    "        \n",
    "def revocation_category_mapper(disposition):\n",
    "    if not isinstance(disposition, str):\n",
    "        return disposition\n",
    "    else:\n",
    "        disposition = disposition.lower()\n",
    "        if 'revo' in disposition: # revoke is conjugated a number of ways; searching for 'revo' is fine\n",
    "            return 1\n",
    "        else:\n",
    "            return 0\n",
    "        \n",
    "def alert_category_mapper(disposition):\n",
    "    if not isinstance(disposition, str):\n",
    "        return disposition\n",
    "    else:\n",
    "        disposition = disposition.lower()\n",
    "        if 'alert' in disposition: # revoke is conjugated a number of ways; searching for 'revo' is fine\n",
    "            return 1\n",
    "        else:\n",
    "            return 0\n",
    "        \n",
    "df['non_alert_disposition_type'] = df['Disposition'].map(disposition_category_mapper)\n",
    "df['license_revoked'] = df['Disposition'].map(revocation_category_mapper)\n",
    "df['alert'] = df['Disposition'].map(alert_category_mapper)\n",
    "\n",
    "\n",
    "df[['Disposition', 'fines', 'non_alert_disposition_type', 'license_revoked', 'alert']]"
   ]
  },
  {
   "cell_type": "markdown",
   "metadata": {},
   "source": [
    "With all of these features made, we can safely drop the Disposition feature."
   ]
  },
  {
   "cell_type": "code",
   "execution_count": 557,
   "metadata": {},
   "outputs": [],
   "source": [
    "df = df.drop('Disposition', axis=1)"
   ]
  },
  {
   "attachments": {},
   "cell_type": "markdown",
   "metadata": {},
   "source": [
    "## Creating Features out of Facility Address\n",
    "I take the address strings and break them into street, city, state, and zip code components.\n",
    "\n",
    "The troublesome address contains a dash and has an extra comma."
   ]
  },
  {
   "cell_type": "code",
   "execution_count": 558,
   "metadata": {},
   "outputs": [
    {
     "data": {
      "text/plain": [
       "'2417 UNIVERSITY BLVD, WEST , SILVER SPRING , MARYLAND - 20902'"
      ]
     },
     "execution_count": 558,
     "metadata": {},
     "output_type": "execute_result"
    }
   ],
   "source": [
    "bad_addr = df['FacilityAddress'].unique()\n",
    "bad_addr = [addr for addr in bad_addr if addr.count(',') == 3][0]\n",
    "bad_addr"
   ]
  },
  {
   "cell_type": "markdown",
   "metadata": {},
   "source": [
    "First, I remove dashes from addresses. This makes the format of the strings more uniform, which will make everything else more simple."
   ]
  },
  {
   "cell_type": "code",
   "execution_count": 559,
   "metadata": {},
   "outputs": [],
   "source": [
    "def remove_dash(text):\n",
    "    '''\n",
    "    Removes the hypens from a string of text\n",
    "    '''\n",
    "    return ''.join([char for char in text if char != '-']).replace('  ', ' ')\n",
    "\n",
    "# Removing the hyphens makese the format of the addresses more uniform\n",
    "df['FacilityAddress'] = df['FacilityAddress'].map(remove_dash)"
   ]
  },
  {
   "attachments": {},
   "cell_type": "markdown",
   "metadata": {},
   "source": [
    "Next, we have to handle \"extra\" commas in addresses. This occurs when a business is located on Street, West instead of Street or on Street, Ste. 300 instead of just Street. Fortunately, we do not have to deal with both simultaneously here."
   ]
  },
  {
   "cell_type": "code",
   "execution_count": 560,
   "metadata": {},
   "outputs": [],
   "source": [
    "def replace_first_comma(text, search, replace):\n",
    "    '''\n",
    "    Replaces the first comma in a string with three commas.\n",
    "    Useful as some street names have commas in them. Removing them puts all\n",
    "    addresses in a more similar form.\n",
    "    Note: inputs should only be strings with 3 commas\n",
    "    '''\n",
    "    search_count = 0\n",
    "    comma_to_replace = 1\n",
    "    output = ''\n",
    "    for i, char in enumerate(text):\n",
    "        if char == search:\n",
    "            search_count += 1\n",
    "            if search_count == comma_to_replace:\n",
    "                output += replace\n",
    "            else:\n",
    "                output += char\n",
    "        else:\n",
    "            output += char\n",
    "    return output\n",
    "\n",
    "def replace_commas(text):\n",
    "    n_commas = text.count(',')\n",
    "    if n_commas == 3:\n",
    "        return replace_first_comma(text, ',', '')\n",
    "    else:\n",
    "        return text\n",
    "    \n",
    "df['FacilityAddress'] = df['FacilityAddress'].map(replace_commas)"
   ]
  },
  {
   "attachments": {},
   "cell_type": "markdown",
   "metadata": {},
   "source": [
    "To make things concrete, let us see how this affects our test \"bad\" address."
   ]
  },
  {
   "cell_type": "code",
   "execution_count": 561,
   "metadata": {},
   "outputs": [
    {
     "name": "stdout",
     "output_type": "stream",
     "text": [
      "Before processing:  2417 UNIVERSITY BLVD, WEST , SILVER SPRING , MARYLAND - 20902\n",
      "After processing:  2417 UNIVERSITY BLVD  WEST , SILVER SPRING , MARYLAND 20902\n"
     ]
    }
   ],
   "source": [
    "print('Before processing: ', bad_addr)\n",
    "print('After processing: ', replace_first_comma(remove_dash(bad_addr), ',', ' '))"
   ]
  },
  {
   "attachments": {},
   "cell_type": "markdown",
   "metadata": {},
   "source": [
    "This is close enough to the standard STREET, CITY, STATE ZIP format. We can extract each part using splitting, mostly."
   ]
  },
  {
   "cell_type": "code",
   "execution_count": 562,
   "metadata": {},
   "outputs": [
    {
     "data": {
      "text/plain": [
       "0       [10072 DARNESTOWN RD. ,  ROCKVILLE,  MD 20860]\n",
       "1           [33 MARYLAND AVE. ,  ROCKVILLE,  MD 20850]\n",
       "2       [8407 RAMSEY AVE. ,  SILVER SPRING,  MD 20910]\n",
       "3    [255 NORTH WASHINGTON ST. ,  ROCKVILLE,  MD 20...\n",
       "4    [255 NORTH WASHINGTON ST. ,  ROCKVILLE,  MD 20...\n",
       "Name: FacilityAddress, dtype: object"
      ]
     },
     "execution_count": 562,
     "metadata": {},
     "output_type": "execute_result"
    }
   ],
   "source": [
    "df['FacilityAddress'] = df['FacilityAddress'].str.split(',')\n",
    "df['FacilityAddress'].head()"
   ]
  },
  {
   "cell_type": "markdown",
   "metadata": {},
   "source": [
    "The format of the entries after splitting on commas is [street address, city, state zip code]. We want to make all of those unique features. The street address and city are trivial. Separating the state and zip code is also easy but takes just a little more code."
   ]
  },
  {
   "cell_type": "code",
   "execution_count": 563,
   "metadata": {},
   "outputs": [],
   "source": [
    "df['Address'] = df['FacilityAddress'].str[0].str.strip() # Note we have some whitespace, which I remove\n",
    "df['City'] = df['FacilityAddress'].str[1].str.strip()"
   ]
  },
  {
   "cell_type": "code",
   "execution_count": 564,
   "metadata": {},
   "outputs": [
    {
     "data": {
      "text/plain": [
       "0            [, MD, 20860]\n",
       "1            [, MD, 20850]\n",
       "2            [, MD, 20910]\n",
       "3            [, MD, 20850]\n",
       "4            [, MD, 20850]\n",
       "              ...         \n",
       "888    [, MARYLAND, 20837]\n",
       "889    [, MARYLAND, 20837]\n",
       "890    [, MARYLAND, 20837]\n",
       "891    [, MARYLAND, 20874]\n",
       "892    [, MARYLAND, 20902]\n",
       "Name: FacilityAddress, Length: 873, dtype: object"
      ]
     },
     "execution_count": 564,
     "metadata": {},
     "output_type": "execute_result"
    }
   ],
   "source": [
    "df['FacilityAddress'].str[2].str.split(' ')"
   ]
  },
  {
   "attachments": {},
   "cell_type": "markdown",
   "metadata": {},
   "source": [
    "Note here that we have an empty list element due to some whitespace. Also, note that sometimes Maryland is abbreviated, and sometimes it is not. This will be fixed.\n",
    "\n",
    "First, we extract zip codes and the state."
   ]
  },
  {
   "cell_type": "code",
   "execution_count": 565,
   "metadata": {},
   "outputs": [],
   "source": [
    "df['State'] = df['FacilityAddress'].str[2].str.split(' ').str[1].str.strip()\n",
    "df['Zip'] = df['FacilityAddress'].str[2].str.split(' ').str[2].str.strip()"
   ]
  },
  {
   "attachments": {},
   "cell_type": "markdown",
   "metadata": {},
   "source": [
    "We make sure MD is always abbreviated."
   ]
  },
  {
   "cell_type": "code",
   "execution_count": 566,
   "metadata": {},
   "outputs": [],
   "source": [
    "df['State'] = df['State'].replace({'MARYLAND':'MD'})"
   ]
  },
  {
   "attachments": {},
   "cell_type": "markdown",
   "metadata": {},
   "source": [
    "I sanity check the zip code values."
   ]
  },
  {
   "cell_type": "code",
   "execution_count": 567,
   "metadata": {},
   "outputs": [
    {
     "data": {
      "text/plain": [
       "array(['20860', '20850', '20910', '20817', '20815', '20852', '20814',\n",
       "       '20878', '20902', '20904', '20833', '20841', '20906', '20879',\n",
       "       '20874', '20876', '20877', '20912', '20854', '20853', '20832',\n",
       "       '20837', '20866', '20861', '20905', '20895', '20903', '20872',\n",
       "       '20816', '20867', '20851', '209063649', '20901', '20855',\n",
       "       '208146008', '20871', '208772612', '20886', '20882', '208501112',\n",
       "       '208145204', '208952123', '20818', '209012206', '209042610',\n",
       "       '209024505', '208372076', '209061909', '209023414'], dtype=object)"
      ]
     },
     "execution_count": 567,
     "metadata": {},
     "output_type": "execute_result"
    }
   ],
   "source": [
    "df['Zip'].unique()"
   ]
  },
  {
   "attachments": {},
   "cell_type": "markdown",
   "metadata": {},
   "source": [
    "These longer zip codes (ex. 209061909) are just zip+4 codes. They show up this way because we removed dashes. We can drop the final four digits from each."
   ]
  },
  {
   "cell_type": "code",
   "execution_count": 568,
   "metadata": {},
   "outputs": [],
   "source": [
    "df['Zip'] = pd.to_numeric(df['Zip'].str[:5])"
   ]
  },
  {
   "attachments": {},
   "cell_type": "markdown",
   "metadata": {},
   "source": [
    "I then drop the FacilityAddress feature."
   ]
  },
  {
   "cell_type": "code",
   "execution_count": 569,
   "metadata": {},
   "outputs": [],
   "source": [
    "df = df.drop('FacilityAddress', axis=1)"
   ]
  },
  {
   "attachments": {},
   "cell_type": "markdown",
   "metadata": {},
   "source": [
    "## Cleaning the 'City' Feature\n",
    "There are some typos in the city feature."
   ]
  },
  {
   "cell_type": "code",
   "execution_count": 570,
   "metadata": {},
   "outputs": [
    {
     "data": {
      "text/plain": [
       "array(['ROCKVILLE', 'SILVER SPRING', 'BETHESDA', 'CHEVY CHASE',\n",
       "       'GAITHERSBURG', 'WHEATON', 'NORTH BETHESDA', 'BROOKVILLE', 'BOYDS',\n",
       "       'GERMANTOWN', 'TAKOMA PARK', 'POTOMAC', 'ROCKVILL', 'SANDY SPRING',\n",
       "       'OLNEY', 'POOLESVILLE', 'BURTONSVILLE', 'ASHTON', 'KENSINGTON',\n",
       "       'DAMASCUS', 'DARNESTOWN', 'CLARKSBURG', 'MONTGOMERY VILLAGE',\n",
       "       'DERWOOD', 'LAYTONSVILLE', 'SPENCERVILLE', 'GREMANTOWN',\n",
       "       'CABIN JOHN'], dtype=object)"
      ]
     },
     "execution_count": 570,
     "metadata": {},
     "output_type": "execute_result"
    }
   ],
   "source": [
    "df['City'].unique()"
   ]
  },
  {
   "attachments": {},
   "cell_type": "markdown",
   "metadata": {},
   "source": [
    "'ROCKVILL' should be spelled 'ROCKVILLE' and 'BETHEDA' should be spelled 'BETHESDA.'"
   ]
  },
  {
   "cell_type": "code",
   "execution_count": 571,
   "metadata": {},
   "outputs": [],
   "source": [
    "df['City'] = df.City.replace({'ROCKVILL':'ROCKVILLE', 'BETHEDA':'BETHESDA'})"
   ]
  },
  {
   "cell_type": "code",
   "execution_count": 572,
   "metadata": {},
   "outputs": [
    {
     "data": {
      "text/plain": [
       "array(['ROCKVILLE', 'SILVER SPRING', 'BETHESDA', 'CHEVY CHASE',\n",
       "       'GAITHERSBURG', 'WHEATON', 'NORTH BETHESDA', 'BROOKVILLE', 'BOYDS',\n",
       "       'GERMANTOWN', 'TAKOMA PARK', 'POTOMAC', 'SANDY SPRING', 'OLNEY',\n",
       "       'POOLESVILLE', 'BURTONSVILLE', 'ASHTON', 'KENSINGTON', 'DAMASCUS',\n",
       "       'DARNESTOWN', 'CLARKSBURG', 'MONTGOMERY VILLAGE', 'DERWOOD',\n",
       "       'LAYTONSVILLE', 'SPENCERVILLE', 'GREMANTOWN', 'CABIN JOHN'],\n",
       "      dtype=object)"
      ]
     },
     "execution_count": 572,
     "metadata": {},
     "output_type": "execute_result"
    }
   ],
   "source": [
    "df['City'].unique()"
   ]
  },
  {
   "cell_type": "code",
   "execution_count": 573,
   "metadata": {},
   "outputs": [
    {
     "data": {
      "text/html": [
       "<div>\n",
       "<style scoped>\n",
       "    .dataframe tbody tr th:only-of-type {\n",
       "        vertical-align: middle;\n",
       "    }\n",
       "\n",
       "    .dataframe tbody tr th {\n",
       "        vertical-align: top;\n",
       "    }\n",
       "\n",
       "    .dataframe thead th {\n",
       "        text-align: right;\n",
       "    }\n",
       "</style>\n",
       "<table border=\"1\" class=\"dataframe\">\n",
       "  <thead>\n",
       "    <tr style=\"text-align: right;\">\n",
       "      <th></th>\n",
       "      <th>FacilityName</th>\n",
       "      <th>Violation</th>\n",
       "      <th>DispositionDate</th>\n",
       "      <th>fines</th>\n",
       "      <th>non_alert_disposition_type</th>\n",
       "      <th>license_revoked</th>\n",
       "      <th>alert</th>\n",
       "      <th>Address</th>\n",
       "      <th>City</th>\n",
       "      <th>State</th>\n",
       "      <th>Zip</th>\n",
       "    </tr>\n",
       "  </thead>\n",
       "  <tbody>\n",
       "    <tr>\n",
       "      <th>0</th>\n",
       "      <td>FLOWER CHILD</td>\n",
       "      <td>Sale To Minor</td>\n",
       "      <td>03/05/2019</td>\n",
       "      <td>1000.0</td>\n",
       "      <td>setttled</td>\n",
       "      <td>0</td>\n",
       "      <td>1</td>\n",
       "      <td>10072 DARNESTOWN RD.</td>\n",
       "      <td>ROCKVILLE</td>\n",
       "      <td>MD</td>\n",
       "      <td>20860</td>\n",
       "    </tr>\n",
       "    <tr>\n",
       "      <th>1</th>\n",
       "      <td>BUFFALO WILD WINGS</td>\n",
       "      <td>Alcohol Awareness Certified Person Not On Prem...</td>\n",
       "      <td>08/21/2019</td>\n",
       "      <td>100.0</td>\n",
       "      <td>setttled</td>\n",
       "      <td>0</td>\n",
       "      <td>1</td>\n",
       "      <td>33 MARYLAND AVE.</td>\n",
       "      <td>ROCKVILLE</td>\n",
       "      <td>MD</td>\n",
       "      <td>20850</td>\n",
       "    </tr>\n",
       "    <tr>\n",
       "      <th>2</th>\n",
       "      <td>TACOS, TORTAS &amp; TEQUILA</td>\n",
       "      <td>License Not Properly Displayed</td>\n",
       "      <td>04/03/2019</td>\n",
       "      <td>100.0</td>\n",
       "      <td>setttled</td>\n",
       "      <td>0</td>\n",
       "      <td>1</td>\n",
       "      <td>8407 RAMSEY AVE.</td>\n",
       "      <td>SILVER SPRING</td>\n",
       "      <td>MD</td>\n",
       "      <td>20910</td>\n",
       "    </tr>\n",
       "    <tr>\n",
       "      <th>3</th>\n",
       "      <td>THE SPOT</td>\n",
       "      <td>Employee Records Not Available When Requested</td>\n",
       "      <td>08/06/2019</td>\n",
       "      <td>500.0</td>\n",
       "      <td>setttled</td>\n",
       "      <td>0</td>\n",
       "      <td>1</td>\n",
       "      <td>255 NORTH WASHINGTON ST.</td>\n",
       "      <td>ROCKVILLE</td>\n",
       "      <td>MD</td>\n",
       "      <td>20850</td>\n",
       "    </tr>\n",
       "    <tr>\n",
       "      <th>4</th>\n",
       "      <td>THE SPOT</td>\n",
       "      <td>Alcohol Awareness Certified Person Not On Prem...</td>\n",
       "      <td>08/06/2019</td>\n",
       "      <td>100.0</td>\n",
       "      <td>setttled</td>\n",
       "      <td>0</td>\n",
       "      <td>1</td>\n",
       "      <td>255 NORTH WASHINGTON ST.</td>\n",
       "      <td>ROCKVILLE</td>\n",
       "      <td>MD</td>\n",
       "      <td>20850</td>\n",
       "    </tr>\n",
       "  </tbody>\n",
       "</table>\n",
       "</div>"
      ],
      "text/plain": [
       "              FacilityName                                          Violation  \\\n",
       "0             FLOWER CHILD                                      Sale To Minor   \n",
       "1       BUFFALO WILD WINGS  Alcohol Awareness Certified Person Not On Prem...   \n",
       "2  TACOS, TORTAS & TEQUILA                     License Not Properly Displayed   \n",
       "3                 THE SPOT      Employee Records Not Available When Requested   \n",
       "4                 THE SPOT  Alcohol Awareness Certified Person Not On Prem...   \n",
       "\n",
       "  DispositionDate   fines non_alert_disposition_type  license_revoked  alert  \\\n",
       "0      03/05/2019  1000.0                   setttled                0      1   \n",
       "1      08/21/2019   100.0                   setttled                0      1   \n",
       "2      04/03/2019   100.0                   setttled                0      1   \n",
       "3      08/06/2019   500.0                   setttled                0      1   \n",
       "4      08/06/2019   100.0                   setttled                0      1   \n",
       "\n",
       "                    Address           City State    Zip  \n",
       "0      10072 DARNESTOWN RD.      ROCKVILLE    MD  20860  \n",
       "1          33 MARYLAND AVE.      ROCKVILLE    MD  20850  \n",
       "2          8407 RAMSEY AVE.  SILVER SPRING    MD  20910  \n",
       "3  255 NORTH WASHINGTON ST.      ROCKVILLE    MD  20850  \n",
       "4  255 NORTH WASHINGTON ST.      ROCKVILLE    MD  20850  "
      ]
     },
     "execution_count": 573,
     "metadata": {},
     "output_type": "execute_result"
    }
   ],
   "source": [
    "df.head()"
   ]
  },
  {
   "attachments": {},
   "cell_type": "markdown",
   "metadata": {},
   "source": [
    "# Checking for missing values\n",
    "I use missingno to make sure no values are set to nan in the processed data. The plot is simple to read. The numbers on top of each bar are the number of values present in the feature. The numbers on the left allow you to read bar heights as the portion of values present. The numbers on the right allow you to read the height of the bar as the number of values present, with the heighest number being the total number of samples in the dataframe. The labels on the botttom give the name of each column."
   ]
  },
  {
   "cell_type": "code",
   "execution_count": 574,
   "metadata": {},
   "outputs": [
    {
     "data": {
      "image/png": "[encoded data removed]",
      "text/plain": [
       "<Figure size 1800x720 with 3 Axes>"
      ]
     },
     "metadata": {},
     "output_type": "display_data"
    }
   ],
   "source": [
    "missingno.bar(df)\n",
    "plt.show()"
   ]
  },
  {
   "attachments": {},
   "cell_type": "markdown",
   "metadata": {},
   "source": [
    "There are three DispositionDate values missing. Given the low number, we can impute these values with the mode value."
   ]
  },
  {
   "cell_type": "code",
   "execution_count": 575,
   "metadata": {},
   "outputs": [],
   "source": [
    "df['DispositionDate'] = df['DispositionDate'].fillna(value=df['DispositionDate'].mode().values[0])"
   ]
  },
  {
   "attachments": {},
   "cell_type": "markdown",
   "metadata": {},
   "source": [
    "We can then check to make sure nan imputation worked."
   ]
  },
  {
   "cell_type": "code",
   "execution_count": 577,
   "metadata": {},
   "outputs": [
    {
     "data": {
      "text/html": [
       "<div>\n",
       "<style scoped>\n",
       "    .dataframe tbody tr th:only-of-type {\n",
       "        vertical-align: middle;\n",
       "    }\n",
       "\n",
       "    .dataframe tbody tr th {\n",
       "        vertical-align: top;\n",
       "    }\n",
       "\n",
       "    .dataframe thead th {\n",
       "        text-align: right;\n",
       "    }\n",
       "</style>\n",
       "<table border=\"1\" class=\"dataframe\">\n",
       "  <thead>\n",
       "    <tr style=\"text-align: right;\">\n",
       "      <th></th>\n",
       "      <th>FacilityName</th>\n",
       "      <th>Violation</th>\n",
       "      <th>DispositionDate</th>\n",
       "      <th>fines</th>\n",
       "      <th>non_alert_disposition_type</th>\n",
       "      <th>license_revoked</th>\n",
       "      <th>alert</th>\n",
       "      <th>Address</th>\n",
       "      <th>City</th>\n",
       "      <th>State</th>\n",
       "      <th>Zip</th>\n",
       "    </tr>\n",
       "  </thead>\n",
       "  <tbody>\n",
       "    <tr>\n",
       "      <th>0</th>\n",
       "      <td>FLOWER CHILD</td>\n",
       "      <td>Sale To Minor</td>\n",
       "      <td>03/05/2019</td>\n",
       "      <td>1000.0</td>\n",
       "      <td>setttled</td>\n",
       "      <td>0</td>\n",
       "      <td>1</td>\n",
       "      <td>10072 DARNESTOWN RD.</td>\n",
       "      <td>ROCKVILLE</td>\n",
       "      <td>MD</td>\n",
       "      <td>20860</td>\n",
       "    </tr>\n",
       "    <tr>\n",
       "      <th>1</th>\n",
       "      <td>BUFFALO WILD WINGS</td>\n",
       "      <td>Alcohol Awareness Certified Person Not On Prem...</td>\n",
       "      <td>08/21/2019</td>\n",
       "      <td>100.0</td>\n",
       "      <td>setttled</td>\n",
       "      <td>0</td>\n",
       "      <td>1</td>\n",
       "      <td>33 MARYLAND AVE.</td>\n",
       "      <td>ROCKVILLE</td>\n",
       "      <td>MD</td>\n",
       "      <td>20850</td>\n",
       "    </tr>\n",
       "    <tr>\n",
       "      <th>2</th>\n",
       "      <td>TACOS, TORTAS &amp; TEQUILA</td>\n",
       "      <td>License Not Properly Displayed</td>\n",
       "      <td>04/03/2019</td>\n",
       "      <td>100.0</td>\n",
       "      <td>setttled</td>\n",
       "      <td>0</td>\n",
       "      <td>1</td>\n",
       "      <td>8407 RAMSEY AVE.</td>\n",
       "      <td>SILVER SPRING</td>\n",
       "      <td>MD</td>\n",
       "      <td>20910</td>\n",
       "    </tr>\n",
       "    <tr>\n",
       "      <th>3</th>\n",
       "      <td>THE SPOT</td>\n",
       "      <td>Employee Records Not Available When Requested</td>\n",
       "      <td>08/06/2019</td>\n",
       "      <td>500.0</td>\n",
       "      <td>setttled</td>\n",
       "      <td>0</td>\n",
       "      <td>1</td>\n",
       "      <td>255 NORTH WASHINGTON ST.</td>\n",
       "      <td>ROCKVILLE</td>\n",
       "      <td>MD</td>\n",
       "      <td>20850</td>\n",
       "    </tr>\n",
       "    <tr>\n",
       "      <th>4</th>\n",
       "      <td>THE SPOT</td>\n",
       "      <td>Alcohol Awareness Certified Person Not On Prem...</td>\n",
       "      <td>08/06/2019</td>\n",
       "      <td>100.0</td>\n",
       "      <td>setttled</td>\n",
       "      <td>0</td>\n",
       "      <td>1</td>\n",
       "      <td>255 NORTH WASHINGTON ST.</td>\n",
       "      <td>ROCKVILLE</td>\n",
       "      <td>MD</td>\n",
       "      <td>20850</td>\n",
       "    </tr>\n",
       "  </tbody>\n",
       "</table>\n",
       "</div>"
      ],
      "text/plain": [
       "              FacilityName                                          Violation  \\\n",
       "0             FLOWER CHILD                                      Sale To Minor   \n",
       "1       BUFFALO WILD WINGS  Alcohol Awareness Certified Person Not On Prem...   \n",
       "2  TACOS, TORTAS & TEQUILA                     License Not Properly Displayed   \n",
       "3                 THE SPOT      Employee Records Not Available When Requested   \n",
       "4                 THE SPOT  Alcohol Awareness Certified Person Not On Prem...   \n",
       "\n",
       "  DispositionDate   fines non_alert_disposition_type  license_revoked  alert  \\\n",
       "0      03/05/2019  1000.0                   setttled                0      1   \n",
       "1      08/21/2019   100.0                   setttled                0      1   \n",
       "2      04/03/2019   100.0                   setttled                0      1   \n",
       "3      08/06/2019   500.0                   setttled                0      1   \n",
       "4      08/06/2019   100.0                   setttled                0      1   \n",
       "\n",
       "                    Address           City State    Zip  \n",
       "0      10072 DARNESTOWN RD.      ROCKVILLE    MD  20860  \n",
       "1          33 MARYLAND AVE.      ROCKVILLE    MD  20850  \n",
       "2          8407 RAMSEY AVE.  SILVER SPRING    MD  20910  \n",
       "3  255 NORTH WASHINGTON ST.      ROCKVILLE    MD  20850  \n",
       "4  255 NORTH WASHINGTON ST.      ROCKVILLE    MD  20850  "
      ]
     },
     "execution_count": 577,
     "metadata": {},
     "output_type": "execute_result"
    }
   ],
   "source": [
    "df.head()"
   ]
  },
  {
   "attachments": {},
   "cell_type": "markdown",
   "metadata": {},
   "source": [
    "# Conclusion\n",
    "We now have a dataframe for ABS license violations in Montgomery County that consists of useful cattegorical and continuous features."
   ]
  },
  {
   "cell_type": "code",
   "execution_count": 578,
   "metadata": {},
   "outputs": [],
   "source": [
    "df.to_csv('clean_abs_violations.csv')"
   ]
  }
 ],
 "metadata": {
  "kernelspec": {
   "display_name": "Python 3.9.6 64-bit",
   "language": "python",
   "name": "python3"
  },
  "language_info": {
   "codemirror_mode": {
    "name": "ipython",
    "version": 3
   },
   "file_extension": ".py",
   "mimetype": "text/x-python",
   "name": "python",
   "nbconvert_exporter": "python",
   "pygments_lexer": "ipython3",
   "version": "3.9.6 (tags/v3.9.6:db3ff76, Jun 28 2021, 15:26:21) [MSC v.1929 64 bit (AMD64)]"
  },
  "orig_nbformat": 4,
  "vscode": {
   "interpreter": {
    "hash": "c0480a40de60fe0b4be044949303dbe98ce3610184aeb132e77bccbcbbb8df2a"
   }
  }
 },
 "nbformat": 4,
 "nbformat_minor": 2
}
